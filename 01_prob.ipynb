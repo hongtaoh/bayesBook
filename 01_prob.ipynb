{
 "cells": [
  {
   "cell_type": "markdown",
   "metadata": {},
   "source": [
    "# 贝叶斯定理之证明\n",
    "\n",
    "第一章我们来证明顶顶大名的贝叶斯定理：\n",
    "\n",
    "$$P(A|B) = \\frac{P(A) P(B|A)}{P(B)}\n",
    "$$\n",
    "\n",
    "我们用 Penguins 数据来证明它。"
   ]
  },
  {
   "cell_type": "code",
   "execution_count": 23,
   "metadata": {},
   "outputs": [],
   "source": [
    "import pandas as pd\n",
    "import numpy as np"
   ]
  },
  {
   "cell_type": "code",
   "execution_count": 24,
   "metadata": {},
   "outputs": [
    {
     "data": {
      "text/html": [
       "<div>\n",
       "<style scoped>\n",
       "    .dataframe tbody tr th:only-of-type {\n",
       "        vertical-align: middle;\n",
       "    }\n",
       "\n",
       "    .dataframe tbody tr th {\n",
       "        vertical-align: top;\n",
       "    }\n",
       "\n",
       "    .dataframe thead th {\n",
       "        text-align: right;\n",
       "    }\n",
       "</style>\n",
       "<table border=\"1\" class=\"dataframe\">\n",
       "  <thead>\n",
       "    <tr style=\"text-align: right;\">\n",
       "      <th></th>\n",
       "      <th>species</th>\n",
       "      <th>island</th>\n",
       "      <th>bill_length_mm</th>\n",
       "      <th>bill_depth_mm</th>\n",
       "      <th>flipper_length_mm</th>\n",
       "      <th>body_mass_g</th>\n",
       "      <th>sex</th>\n",
       "    </tr>\n",
       "  </thead>\n",
       "  <tbody>\n",
       "    <tr>\n",
       "      <th>0</th>\n",
       "      <td>Adelie</td>\n",
       "      <td>Torgersen</td>\n",
       "      <td>39.1</td>\n",
       "      <td>18.7</td>\n",
       "      <td>181.0</td>\n",
       "      <td>3750.0</td>\n",
       "      <td>MALE</td>\n",
       "    </tr>\n",
       "    <tr>\n",
       "      <th>1</th>\n",
       "      <td>Adelie</td>\n",
       "      <td>Torgersen</td>\n",
       "      <td>39.5</td>\n",
       "      <td>17.4</td>\n",
       "      <td>186.0</td>\n",
       "      <td>3800.0</td>\n",
       "      <td>FEMALE</td>\n",
       "    </tr>\n",
       "    <tr>\n",
       "      <th>2</th>\n",
       "      <td>Adelie</td>\n",
       "      <td>Torgersen</td>\n",
       "      <td>40.3</td>\n",
       "      <td>18.0</td>\n",
       "      <td>195.0</td>\n",
       "      <td>3250.0</td>\n",
       "      <td>FEMALE</td>\n",
       "    </tr>\n",
       "    <tr>\n",
       "      <th>4</th>\n",
       "      <td>Adelie</td>\n",
       "      <td>Torgersen</td>\n",
       "      <td>36.7</td>\n",
       "      <td>19.3</td>\n",
       "      <td>193.0</td>\n",
       "      <td>3450.0</td>\n",
       "      <td>FEMALE</td>\n",
       "    </tr>\n",
       "    <tr>\n",
       "      <th>5</th>\n",
       "      <td>Adelie</td>\n",
       "      <td>Torgersen</td>\n",
       "      <td>39.3</td>\n",
       "      <td>20.6</td>\n",
       "      <td>190.0</td>\n",
       "      <td>3650.0</td>\n",
       "      <td>MALE</td>\n",
       "    </tr>\n",
       "  </tbody>\n",
       "</table>\n",
       "</div>"
      ],
      "text/plain": [
       "  species     island  bill_length_mm  bill_depth_mm  flipper_length_mm  \\\n",
       "0  Adelie  Torgersen            39.1           18.7              181.0   \n",
       "1  Adelie  Torgersen            39.5           17.4              186.0   \n",
       "2  Adelie  Torgersen            40.3           18.0              195.0   \n",
       "4  Adelie  Torgersen            36.7           19.3              193.0   \n",
       "5  Adelie  Torgersen            39.3           20.6              190.0   \n",
       "\n",
       "   body_mass_g     sex  \n",
       "0       3750.0    MALE  \n",
       "1       3800.0  FEMALE  \n",
       "2       3250.0  FEMALE  \n",
       "4       3450.0  FEMALE  \n",
       "5       3650.0    MALE  "
      ]
     },
     "execution_count": 24,
     "metadata": {},
     "output_type": "execute_result"
    }
   ],
   "source": [
    "df = pd.read_csv(\"https://raw.githubusercontent.com/mwaskom/seaborn-data/master/penguins.csv\")\n",
    "df = df.dropna()\n",
    "df.head()"
   ]
  },
  {
   "cell_type": "code",
   "execution_count": 25,
   "metadata": {},
   "outputs": [
    {
     "data": {
      "text/plain": [
       "(333, 7)"
      ]
     },
     "execution_count": 25,
     "metadata": {},
     "output_type": "execute_result"
    }
   ],
   "source": [
    "df.shape"
   ]
  },
  {
   "cell_type": "code",
   "execution_count": 26,
   "metadata": {},
   "outputs": [
    {
     "data": {
      "text/plain": [
       "({'Adelie', 'Chinstrap', 'Gentoo'},\n",
       " {'Biscoe', 'Dream', 'Torgersen'},\n",
       " {'FEMALE', 'MALE'})"
      ]
     },
     "execution_count": 26,
     "metadata": {},
     "output_type": "execute_result"
    }
   ],
   "source": [
    "set(df.species), set(df.island), set(df.sex)"
   ]
  },
  {
   "cell_type": "markdown",
   "metadata": {},
   "source": [
    "我们看到总共有三种企鹅 ('Adelie', 'Chinstrap', 'Gentoo')，两种性别 ('FEMALE', 'MALE')。我们下面只用到这两个变量。\n",
    "\n",
    "我们把 A 事件定义为：FEMALE。B 事件定义为 Adelie。\n",
    "\n",
    "## A & B\n",
    "\n",
    "我们先来看一下 $P(A \\& B)$:"
   ]
  },
  {
   "cell_type": "code",
   "execution_count": 27,
   "metadata": {},
   "outputs": [],
   "source": [
    "def prob_sex_and_species(df, sex_str, species_str):\n",
    "    subset = df[(df['sex'] == sex_str) & (df['species'] == species_str)]\n",
    "    return len(subset) / len(df)"
   ]
  },
  {
   "cell_type": "code",
   "execution_count": 28,
   "metadata": {},
   "outputs": [
    {
     "data": {
      "text/plain": [
       "0.21921921921921922"
      ]
     },
     "execution_count": 28,
     "metadata": {},
     "output_type": "execute_result"
    }
   ],
   "source": [
    "prob_sex_and_species(df, sex_str='FEMALE', species_str='Adelie')"
   ]
  },
  {
   "cell_type": "markdown",
   "metadata": {},
   "source": [
    "<!-- 另一种解题方式： \n",
    "\n",
    "## Fraction of Adelie species\n",
    "adelie = (df['species'] == 'Adelie')\n",
    "adelie.head()\n",
    "\n",
    "## Adelie and Female\n",
    "female = (df['sex'] == 'FEMALE')\n",
    "female.head()\n",
    "\n",
    "def prob(A):\n",
    "    '''probability of A'''\n",
    "    '''Input: a series of True and False values'''\n",
    "    return A.mean()\n",
    "\n",
    "prob(female & adelie)\n",
    "\n",
    "female[adelie].head()\n",
    "\n",
    "prob(female[adelie])\n",
    "\n",
    "`female` 是 `df` 所有行 `sex == \"Female\"` 的结果（True 或者 False)。`female[adelie]` 依然是 `sex == \"Female\"` 的结果，但并非对于 `df` 所有行，而是 `df` 中 `species == 'adelie'` 为 True 之行。\n",
    "\n",
    "prob(female[adelie]) == prob(female & adelie)/prob(adelie)\n",
    "\n",
    "prob(female & adelie) == prob(adelie & female)\n",
    "-->"
   ]
  },
  {
   "cell_type": "markdown",
   "metadata": {},
   "source": [
    "## A|B\n",
    "\n",
    "我们直接计算 $P(A|B)$ 也就是 P(Female|Adelie):"
   ]
  },
  {
   "cell_type": "code",
   "execution_count": 29,
   "metadata": {},
   "outputs": [],
   "source": [
    "def prob_sex_given_species(df, sex_str, species_str):\n",
    "    species_subset = df[df.species == species_str]\n",
    "    sex_subset_within_species_subset = species_subset[species_subset.sex == sex_str]\n",
    "    return len(sex_subset_within_species_subset)/len(species_subset)"
   ]
  },
  {
   "cell_type": "code",
   "execution_count": 30,
   "metadata": {},
   "outputs": [
    {
     "data": {
      "text/plain": [
       "0.5"
      ]
     },
     "execution_count": 30,
     "metadata": {},
     "output_type": "execute_result"
    }
   ],
   "source": [
    "prob_sex_given_species(df, 'FEMALE', 'Adelie')"
   ]
  },
  {
   "cell_type": "markdown",
   "metadata": {},
   "source": [
    "## 贝叶斯定理\n",
    "\n",
    "首先，我们看到\n",
    "\n",
    "$$P(A|B) = \\frac{P(A\\&B)}{P(B)}\n",
    "$$"
   ]
  },
  {
   "cell_type": "code",
   "execution_count": 31,
   "metadata": {},
   "outputs": [],
   "source": [
    "def prob_species(df, species_str):\n",
    "    subset = df[df.species == species_str]\n",
    "    return len(subset)/len(df)"
   ]
  },
  {
   "cell_type": "code",
   "execution_count": 32,
   "metadata": {},
   "outputs": [
    {
     "data": {
      "text/plain": [
       "0.43843843843843844"
      ]
     },
     "execution_count": 32,
     "metadata": {},
     "output_type": "execute_result"
    }
   ],
   "source": [
    "prob_species(df, 'Adelie')"
   ]
  },
  {
   "cell_type": "code",
   "execution_count": 33,
   "metadata": {},
   "outputs": [
    {
     "data": {
      "text/plain": [
       "True"
      ]
     },
     "execution_count": 33,
     "metadata": {},
     "output_type": "execute_result"
    }
   ],
   "source": [
    "prob_sex_given_species(\n",
    "    df, 'FEMALE', 'Adelie') == prob_sex_and_species(\n",
    "    df, 'FEMALE', 'Adelie')/prob_species(df, 'Adelie')"
   ]
  },
  {
   "cell_type": "markdown",
   "metadata": {},
   "source": [
    "我们也知道\n",
    "\n",
    "$$P(A\\&B) = P(B\\&A)$$"
   ]
  },
  {
   "cell_type": "markdown",
   "metadata": {},
   "source": [
    "这个貌似不用证明"
   ]
  },
  {
   "cell_type": "markdown",
   "metadata": {},
   "source": [
    "进而我们知道\n",
    "\n",
    "$$P(A\\&B) = P(A|B) P(B)$$\n",
    "\n",
    "所以\n",
    "\n",
    "$$P(B\\&A) = P(B|A) P(A)$$\n",
    "\n",
    "所以\n",
    "\n",
    "$$\n",
    "P(A|B) = \\frac{P(A \\& B)}{P(B)} = \\frac{P(B\\&A)}{P(B)} = \\frac{ P(A) P(B|A) }{P(B)}\n",
    "$$"
   ]
  },
  {
   "cell_type": "markdown",
   "metadata": {},
   "source": [
    "得证。"
   ]
  }
 ],
 "metadata": {
  "kernelspec": {
   "display_name": "bayes",
   "language": "python",
   "name": "python3"
  },
  "language_info": {
   "codemirror_mode": {
    "name": "ipython",
    "version": 3
   },
   "file_extension": ".py",
   "mimetype": "text/x-python",
   "name": "python",
   "nbconvert_exporter": "python",
   "pygments_lexer": "ipython3",
   "version": "3.8.19"
  }
 },
 "nbformat": 4,
 "nbformat_minor": 2
}
